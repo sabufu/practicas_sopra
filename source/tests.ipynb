{
 "cells": [
  {
   "cell_type": "code",
   "execution_count": 2,
   "metadata": {},
   "outputs": [
    {
     "name": "stdout",
     "output_type": "stream",
     "text": [
      "import unittest\n",
      "from suma import suma\n",
      "\n",
      "class TestSuma(unittest.TestCase):\n",
      "\n",
      "    def test_suma_positivos(self):\n",
      "        self.assertEqual(suma(1, 2), 3)\n",
      "\n",
      "    def test_suma_negativo_positivo(self):\n",
      "        self.assertEqual(suma(-1, 2), 1)\n",
      "\n",
      "    def test_suma_negativos(self):\n",
      "        self.assertEqual(suma(-1, -2), -3)\n",
      "\n",
      "if __name__ == '__main__':\n",
      "    unittest.main()\n"
     ]
    }
   ],
   "source": [
    "import openai\n",
    "from dotenv import load_dotenv\n",
    "import os\n",
    "\n",
    "load_dotenv()\n",
    "\n",
    "# Access the environment variables from the .env file\n",
    "api_key = os.environ.get('OPENAI_API_KEY')\n",
    "\n",
    "openai.api_key = api_key\n",
    "client = openai.OpenAI()\n",
    "\n",
    "\n",
    "completion = client.chat.completions.create(\n",
    "  model=\"gpt-3.5-turbo\",\n",
    "  messages=[\n",
    "    {\"role\": \"system\", \"content\": \"Solamente puedes devolver código en python\"},\n",
    "    {\"role\": \"user\", \"content\": \"Genera la clase de tests unitarios para una funcion de suma.suma(1, 2) importada de suma\"}\n",
    "  ]\n",
    ")\n",
    "\n",
    "print(completion.choices[0].message.content)\n",
    "codigo = completion.choices[0].message.content"
   ]
  },
  {
   "cell_type": "code",
   "execution_count": 3,
   "metadata": {},
   "outputs": [
    {
     "name": "stderr",
     "output_type": "stream",
     "text": [
      "...\n",
      "----------------------------------------------------------------------\n",
      "Ran 3 tests in 0.002s\n",
      "\n",
      "OK\n"
     ]
    }
   ],
   "source": [
    "codigo = codigo.replace(\"```\", \"\")\n",
    "codigo = codigo.replace(\"python\", \"\")\n",
    "codigo = codigo.replace(\"if __name__ == '__main__':\", \"\")\n",
    "codigo = codigo.replace(\"    unittest.main()\", \"\")\n",
    "codigo += \"\\nunittest.main(argv=[''], exit=False)\"\n",
    "\n",
    "exec(codigo)"
   ]
  },
  {
   "cell_type": "code",
   "execution_count": 29,
   "metadata": {},
   "outputs": [
    {
     "name": "stdout",
     "output_type": "stream",
     "text": [
      "\n",
      "import unittest\n",
      "\n",
      "def multiplicacion(a, b):\n",
      "    return a * b\n",
      "\n",
      "class TestMultiplicacion(unittest.TestCase):\n",
      "\n",
      "    def test_multiplicacion_positivos(self):\n",
      "        self.assertEqual(multiplicacion(3, 4), 12)\n",
      "\n",
      "    def test_multiplicacion_negativo_positivo(self):\n",
      "        self.assertEqual(multiplicacion(-3, 2), -6)\n",
      "\n",
      "    def test_multiplicacion_negativos(self):\n",
      "        self.assertEqual(multiplicacion(-4, -5), 20)\n",
      "\n",
      "\n",
      "\n",
      "\n",
      "unittest.main(argv=[''], exit=False)\n"
     ]
    }
   ],
   "source": [
    "print(codigo)"
   ]
  }
 ],
 "metadata": {
  "kernelspec": {
   "display_name": "base",
   "language": "python",
   "name": "python3"
  },
  "language_info": {
   "codemirror_mode": {
    "name": "ipython",
    "version": 3
   },
   "file_extension": ".py",
   "mimetype": "text/x-python",
   "name": "python",
   "nbconvert_exporter": "python",
   "pygments_lexer": "ipython3",
   "version": "3.11.4"
  }
 },
 "nbformat": 4,
 "nbformat_minor": 2
}
